{
 "cells": [
  {
   "cell_type": "code",
   "execution_count": 1,
   "metadata": {},
   "outputs": [],
   "source": [
    "from datasets_custom.dataset_custom import DatasetCustom\n",
    "from models.models import BertModel\n",
    "from preprocess.preprocess_dataset import clear_text"
   ]
  },
  {
   "cell_type": "code",
   "execution_count": 2,
   "metadata": {},
   "outputs": [],
   "source": [
    "import io\n",
    "import numpy as np\n",
    "from sklearn.model_selection import train_test_split"
   ]
  },
  {
   "cell_type": "code",
   "execution_count": 3,
   "metadata": {},
   "outputs": [],
   "source": [
    "import tensorflow as tf\n",
    "import tensorflow_addons as tfa\n",
    "import tensorflow_datasets as tfds"
   ]
  },
  {
   "cell_type": "markdown",
   "metadata": {},
   "source": [
    "## Leitura dos dados"
   ]
  },
  {
   "cell_type": "code",
   "execution_count": 4,
   "metadata": {},
   "outputs": [
    {
     "name": "stderr",
     "output_type": "stream",
     "text": [
      "/home/jailsonpj/Área de Trabalho/mestrado/src/siames_network_tf/exp_1/datasets_custom/dataset_custom.py:74: SettingWithCopyWarning: \n",
      "A value is trying to be set on a copy of a slice from a DataFrame.\n",
      "Try using .loc[row_indexer,col_indexer] = value instead\n",
      "\n",
      "See the caveats in the documentation: https://pandas.pydata.org/pandas-docs/stable/user_guide/indexing.html#returning-a-view-versus-a-copy\n",
      "  df[column_label] = pd.Categorical(df[column_label])\n",
      "/home/jailsonpj/Área de Trabalho/mestrado/src/siames_network_tf/exp_1/datasets_custom/dataset_custom.py:75: SettingWithCopyWarning: \n",
      "A value is trying to be set on a copy of a slice from a DataFrame.\n",
      "Try using .loc[row_indexer,col_indexer] = value instead\n",
      "\n",
      "See the caveats in the documentation: https://pandas.pydata.org/pandas-docs/stable/user_guide/indexing.html#returning-a-view-versus-a-copy\n",
      "  df[column_label] = df[column_label].cat.codes\n"
     ]
    }
   ],
   "source": [
    "dataset = DatasetCustom(\"/home/jailsonpj/Área de Trabalho/mestrado/src/siames_network_tf/exp_1/datasets_custom/\")\n",
    "df = dataset.get_dataset_custom()"
   ]
  },
  {
   "cell_type": "code",
   "execution_count": 5,
   "metadata": {},
   "outputs": [
    {
     "data": {
      "text/html": [
       "<div>\n",
       "<style scoped>\n",
       "    .dataframe tbody tr th:only-of-type {\n",
       "        vertical-align: middle;\n",
       "    }\n",
       "\n",
       "    .dataframe tbody tr th {\n",
       "        vertical-align: top;\n",
       "    }\n",
       "\n",
       "    .dataframe thead th {\n",
       "        text-align: right;\n",
       "    }\n",
       "</style>\n",
       "<table border=\"1\" class=\"dataframe\">\n",
       "  <thead>\n",
       "    <tr style=\"text-align: right;\">\n",
       "      <th></th>\n",
       "      <th>Source</th>\n",
       "      <th>Title</th>\n",
       "      <th>Content</th>\n",
       "      <th>labels</th>\n",
       "      <th>text</th>\n",
       "    </tr>\n",
       "  </thead>\n",
       "  <tbody>\n",
       "    <tr>\n",
       "      <th>0</th>\n",
       "      <td>cnn.com</td>\n",
       "      <td>Stocks slip slightly</td>\n",
       "      <td>With little U.S. economic or corporate news on...</td>\n",
       "      <td>0</td>\n",
       "      <td>Stocks slip slightly With little U.S. economic...</td>\n",
       "    </tr>\n",
       "    <tr>\n",
       "      <th>1</th>\n",
       "      <td>investors.com</td>\n",
       "      <td>Stocks Down At Midday On Weak China Export Data</td>\n",
       "      <td>Stocks were down across the board at midday Mo...</td>\n",
       "      <td>1</td>\n",
       "      <td>Stocks Down At Midday On Weak China Export Dat...</td>\n",
       "    </tr>\n",
       "    <tr>\n",
       "      <th>2</th>\n",
       "      <td>cnn.com</td>\n",
       "      <td>Winners and losers of the bull market</td>\n",
       "      <td>It's been five years since the stock market hi...</td>\n",
       "      <td>0</td>\n",
       "      <td>Winners and losers of the bull market It's bee...</td>\n",
       "    </tr>\n",
       "    <tr>\n",
       "      <th>3</th>\n",
       "      <td>foxnews.com</td>\n",
       "      <td>Does Mt. Gox CEO still control all those stole...</td>\n",
       "      <td>next Image 1 of 3 prev next Image 2 of 3 prev ...</td>\n",
       "      <td>1</td>\n",
       "      <td>Does Mt. Gox CEO still control all those stole...</td>\n",
       "    </tr>\n",
       "    <tr>\n",
       "      <th>4</th>\n",
       "      <td>mashable.com</td>\n",
       "      <td>Bankrupt Exchange Mt. Gox Still Has $600 Milli...</td>\n",
       "      <td>Japan-based Bitcoin exchange Mt.Gox has been d...</td>\n",
       "      <td>0</td>\n",
       "      <td>Bankrupt Exchange Mt. Gox Still Has $600 Milli...</td>\n",
       "    </tr>\n",
       "  </tbody>\n",
       "</table>\n",
       "</div>"
      ],
      "text/plain": [
       "          Source                                              Title  \\\n",
       "0        cnn.com                               Stocks slip slightly   \n",
       "1  investors.com    Stocks Down At Midday On Weak China Export Data   \n",
       "2        cnn.com              Winners and losers of the bull market   \n",
       "3    foxnews.com  Does Mt. Gox CEO still control all those stole...   \n",
       "4   mashable.com  Bankrupt Exchange Mt. Gox Still Has $600 Milli...   \n",
       "\n",
       "                                             Content  labels  \\\n",
       "0  With little U.S. economic or corporate news on...       0   \n",
       "1  Stocks were down across the board at midday Mo...       1   \n",
       "2  It's been five years since the stock market hi...       0   \n",
       "3  next Image 1 of 3 prev next Image 2 of 3 prev ...       1   \n",
       "4  Japan-based Bitcoin exchange Mt.Gox has been d...       0   \n",
       "\n",
       "                                                text  \n",
       "0  Stocks slip slightly With little U.S. economic...  \n",
       "1  Stocks Down At Midday On Weak China Export Dat...  \n",
       "2  Winners and losers of the bull market It's bee...  \n",
       "3  Does Mt. Gox CEO still control all those stole...  \n",
       "4  Bankrupt Exchange Mt. Gox Still Has $600 Milli...  "
      ]
     },
     "execution_count": 5,
     "metadata": {},
     "output_type": "execute_result"
    }
   ],
   "source": [
    "df.head(5)"
   ]
  },
  {
   "cell_type": "code",
   "execution_count": 6,
   "metadata": {},
   "outputs": [],
   "source": [
    "df = df[[\"text\", \"labels\"]]"
   ]
  },
  {
   "cell_type": "code",
   "execution_count": 7,
   "metadata": {},
   "outputs": [
    {
     "data": {
      "text/html": [
       "<div>\n",
       "<style scoped>\n",
       "    .dataframe tbody tr th:only-of-type {\n",
       "        vertical-align: middle;\n",
       "    }\n",
       "\n",
       "    .dataframe tbody tr th {\n",
       "        vertical-align: top;\n",
       "    }\n",
       "\n",
       "    .dataframe thead th {\n",
       "        text-align: right;\n",
       "    }\n",
       "</style>\n",
       "<table border=\"1\" class=\"dataframe\">\n",
       "  <thead>\n",
       "    <tr style=\"text-align: right;\">\n",
       "      <th></th>\n",
       "      <th>text</th>\n",
       "      <th>labels</th>\n",
       "    </tr>\n",
       "  </thead>\n",
       "  <tbody>\n",
       "    <tr>\n",
       "      <th>0</th>\n",
       "      <td>Stocks slip slightly With little U.S. economic...</td>\n",
       "      <td>0</td>\n",
       "    </tr>\n",
       "    <tr>\n",
       "      <th>1</th>\n",
       "      <td>Stocks Down At Midday On Weak China Export Dat...</td>\n",
       "      <td>1</td>\n",
       "    </tr>\n",
       "    <tr>\n",
       "      <th>2</th>\n",
       "      <td>Winners and losers of the bull market It's bee...</td>\n",
       "      <td>0</td>\n",
       "    </tr>\n",
       "    <tr>\n",
       "      <th>3</th>\n",
       "      <td>Does Mt. Gox CEO still control all those stole...</td>\n",
       "      <td>1</td>\n",
       "    </tr>\n",
       "    <tr>\n",
       "      <th>4</th>\n",
       "      <td>Bankrupt Exchange Mt. Gox Still Has $600 Milli...</td>\n",
       "      <td>0</td>\n",
       "    </tr>\n",
       "    <tr>\n",
       "      <th>5</th>\n",
       "      <td>Is Bitcoin Legal? Illegal? a Currency? a Commo...</td>\n",
       "      <td>1</td>\n",
       "    </tr>\n",
       "    <tr>\n",
       "      <th>6</th>\n",
       "      <td>The UK's first Bitcoin digital cash machine go...</td>\n",
       "      <td>0</td>\n",
       "    </tr>\n",
       "    <tr>\n",
       "      <th>7</th>\n",
       "      <td>Metro-North worker dies after being hit by tra...</td>\n",
       "      <td>1</td>\n",
       "    </tr>\n",
       "    <tr>\n",
       "      <th>8</th>\n",
       "      <td>Democrat donor William Ackman conspires to des...</td>\n",
       "      <td>1</td>\n",
       "    </tr>\n",
       "    <tr>\n",
       "      <th>9</th>\n",
       "      <td>Public Transit Use In U.S. Is At a 57-Year Hig...</td>\n",
       "      <td>0</td>\n",
       "    </tr>\n",
       "  </tbody>\n",
       "</table>\n",
       "</div>"
      ],
      "text/plain": [
       "                                                text  labels\n",
       "0  Stocks slip slightly With little U.S. economic...       0\n",
       "1  Stocks Down At Midday On Weak China Export Dat...       1\n",
       "2  Winners and losers of the bull market It's bee...       0\n",
       "3  Does Mt. Gox CEO still control all those stole...       1\n",
       "4  Bankrupt Exchange Mt. Gox Still Has $600 Milli...       0\n",
       "5  Is Bitcoin Legal? Illegal? a Currency? a Commo...       1\n",
       "6  The UK's first Bitcoin digital cash machine go...       0\n",
       "7  Metro-North worker dies after being hit by tra...       1\n",
       "8  Democrat donor William Ackman conspires to des...       1\n",
       "9  Public Transit Use In U.S. Is At a 57-Year Hig...       0"
      ]
     },
     "execution_count": 7,
     "metadata": {},
     "output_type": "execute_result"
    }
   ],
   "source": [
    "df.head(10)"
   ]
  },
  {
   "cell_type": "code",
   "execution_count": 8,
   "metadata": {},
   "outputs": [
    {
     "name": "stderr",
     "output_type": "stream",
     "text": [
      "/home/jailsonpj/anaconda3/envs/mestrado/lib/python3.9/site-packages/pandas/core/frame.py:4906: SettingWithCopyWarning: \n",
      "A value is trying to be set on a copy of a slice from a DataFrame\n",
      "\n",
      "See the caveats in the documentation: https://pandas.pydata.org/pandas-docs/stable/user_guide/indexing.html#returning-a-view-versus-a-copy\n",
      "  return super().drop(\n"
     ]
    }
   ],
   "source": [
    "df = dataset.df_partition_label(df, \"labels\")"
   ]
  },
  {
   "cell_type": "code",
   "execution_count": 9,
   "metadata": {},
   "outputs": [
    {
     "data": {
      "text/html": [
       "<div>\n",
       "<style scoped>\n",
       "    .dataframe tbody tr th:only-of-type {\n",
       "        vertical-align: middle;\n",
       "    }\n",
       "\n",
       "    .dataframe tbody tr th {\n",
       "        vertical-align: top;\n",
       "    }\n",
       "\n",
       "    .dataframe thead th {\n",
       "        text-align: right;\n",
       "    }\n",
       "</style>\n",
       "<table border=\"1\" class=\"dataframe\">\n",
       "  <thead>\n",
       "    <tr style=\"text-align: right;\">\n",
       "      <th></th>\n",
       "      <th>text</th>\n",
       "      <th>labels</th>\n",
       "    </tr>\n",
       "  </thead>\n",
       "  <tbody>\n",
       "    <tr>\n",
       "      <th>0</th>\n",
       "      <td>Stocks slip slightly With little U.S. economic...</td>\n",
       "      <td>0</td>\n",
       "    </tr>\n",
       "    <tr>\n",
       "      <th>1</th>\n",
       "      <td>Stocks Down At Midday On Weak China Export Dat...</td>\n",
       "      <td>1</td>\n",
       "    </tr>\n",
       "    <tr>\n",
       "      <th>2</th>\n",
       "      <td>Winners and losers of the bull market It's bee...</td>\n",
       "      <td>0</td>\n",
       "    </tr>\n",
       "    <tr>\n",
       "      <th>3</th>\n",
       "      <td>Does Mt. Gox CEO still control all those stole...</td>\n",
       "      <td>1</td>\n",
       "    </tr>\n",
       "    <tr>\n",
       "      <th>4</th>\n",
       "      <td>Bankrupt Exchange Mt. Gox Still Has $600 Milli...</td>\n",
       "      <td>0</td>\n",
       "    </tr>\n",
       "    <tr>\n",
       "      <th>5</th>\n",
       "      <td>Is Bitcoin Legal? Illegal? a Currency? a Commo...</td>\n",
       "      <td>1</td>\n",
       "    </tr>\n",
       "    <tr>\n",
       "      <th>6</th>\n",
       "      <td>The UK's first Bitcoin digital cash machine go...</td>\n",
       "      <td>0</td>\n",
       "    </tr>\n",
       "    <tr>\n",
       "      <th>7</th>\n",
       "      <td>Metro-North worker dies after being hit by tra...</td>\n",
       "      <td>1</td>\n",
       "    </tr>\n",
       "    <tr>\n",
       "      <th>8</th>\n",
       "      <td>Public Transit Use In U.S. Is At a 57-Year Hig...</td>\n",
       "      <td>0</td>\n",
       "    </tr>\n",
       "    <tr>\n",
       "      <th>9</th>\n",
       "      <td>Democrat donor William Ackman conspires to des...</td>\n",
       "      <td>1</td>\n",
       "    </tr>\n",
       "  </tbody>\n",
       "</table>\n",
       "</div>"
      ],
      "text/plain": [
       "                                                text labels\n",
       "0  Stocks slip slightly With little U.S. economic...      0\n",
       "1  Stocks Down At Midday On Weak China Export Dat...      1\n",
       "2  Winners and losers of the bull market It's bee...      0\n",
       "3  Does Mt. Gox CEO still control all those stole...      1\n",
       "4  Bankrupt Exchange Mt. Gox Still Has $600 Milli...      0\n",
       "5  Is Bitcoin Legal? Illegal? a Currency? a Commo...      1\n",
       "6  The UK's first Bitcoin digital cash machine go...      0\n",
       "7  Metro-North worker dies after being hit by tra...      1\n",
       "8  Public Transit Use In U.S. Is At a 57-Year Hig...      0\n",
       "9  Democrat donor William Ackman conspires to des...      1"
      ]
     },
     "execution_count": 9,
     "metadata": {},
     "output_type": "execute_result"
    }
   ],
   "source": [
    "df.head(10)"
   ]
  },
  {
   "cell_type": "markdown",
   "metadata": {},
   "source": [
    "## Pre processamento"
   ]
  },
  {
   "cell_type": "code",
   "execution_count": 10,
   "metadata": {},
   "outputs": [],
   "source": [
    "df = clear_text(df, \"text\")"
   ]
  },
  {
   "cell_type": "code",
   "execution_count": 11,
   "metadata": {},
   "outputs": [
    {
     "data": {
      "text/html": [
       "<div>\n",
       "<style scoped>\n",
       "    .dataframe tbody tr th:only-of-type {\n",
       "        vertical-align: middle;\n",
       "    }\n",
       "\n",
       "    .dataframe tbody tr th {\n",
       "        vertical-align: top;\n",
       "    }\n",
       "\n",
       "    .dataframe thead th {\n",
       "        text-align: right;\n",
       "    }\n",
       "</style>\n",
       "<table border=\"1\" class=\"dataframe\">\n",
       "  <thead>\n",
       "    <tr style=\"text-align: right;\">\n",
       "      <th></th>\n",
       "      <th>text</th>\n",
       "      <th>labels</th>\n",
       "    </tr>\n",
       "  </thead>\n",
       "  <tbody>\n",
       "    <tr>\n",
       "      <th>0</th>\n",
       "      <td>stocks slip slightly little economic corporate...</td>\n",
       "      <td>0</td>\n",
       "    </tr>\n",
       "    <tr>\n",
       "      <th>1</th>\n",
       "      <td>stocks midday weak china export data stocks bo...</td>\n",
       "      <td>1</td>\n",
       "    </tr>\n",
       "    <tr>\n",
       "      <th>2</th>\n",
       "      <td>winners losers bull market years stock market ...</td>\n",
       "      <td>0</td>\n",
       "    </tr>\n",
       "    <tr>\n",
       "      <th>3</th>\n",
       "      <td>does mt gox ceo control stolen bitcoins image ...</td>\n",
       "      <td>1</td>\n",
       "    </tr>\n",
       "    <tr>\n",
       "      <th>4</th>\n",
       "      <td>bankrupt exchange mt gox 600 million bitcoins ...</td>\n",
       "      <td>0</td>\n",
       "    </tr>\n",
       "  </tbody>\n",
       "</table>\n",
       "</div>"
      ],
      "text/plain": [
       "                                                text labels\n",
       "0  stocks slip slightly little economic corporate...      0\n",
       "1  stocks midday weak china export data stocks bo...      1\n",
       "2  winners losers bull market years stock market ...      0\n",
       "3  does mt gox ceo control stolen bitcoins image ...      1\n",
       "4  bankrupt exchange mt gox 600 million bitcoins ...      0"
      ]
     },
     "execution_count": 11,
     "metadata": {},
     "output_type": "execute_result"
    }
   ],
   "source": [
    "df.head(5)"
   ]
  },
  {
   "cell_type": "markdown",
   "metadata": {},
   "source": [
    "## Split Train and Test"
   ]
  },
  {
   "cell_type": "code",
   "execution_count": 12,
   "metadata": {},
   "outputs": [],
   "source": [
    "train, test = train_test_split(df, test_size=0.2)"
   ]
  },
  {
   "cell_type": "code",
   "execution_count": 13,
   "metadata": {},
   "outputs": [
    {
     "data": {
      "text/plain": [
       "((7256, 2), (1814, 2))"
      ]
     },
     "execution_count": 13,
     "metadata": {},
     "output_type": "execute_result"
    }
   ],
   "source": [
    "train.shape, test.shape"
   ]
  },
  {
   "cell_type": "markdown",
   "metadata": {},
   "source": [
    "### Convertendo Dataframe para tf.dataset"
   ]
  },
  {
   "cell_type": "code",
   "execution_count": 14,
   "metadata": {},
   "outputs": [],
   "source": [
    "labels_train = tf.squeeze(tf.constant([train.pop(\"labels\")]), axis=0)\n",
    "labels_test = tf.squeeze(tf.constant([test.pop(\"labels\")]), axis=0)"
   ]
  },
  {
   "cell_type": "code",
   "execution_count": 15,
   "metadata": {},
   "outputs": [],
   "source": [
    "ds_train = tf.data.Dataset.from_tensor_slices((dict(train), labels_train)).batch(32)\n",
    "ds_test = tf.data.Dataset.from_tensor_slices((dict(test), labels_test)).batch(32)"
   ]
  },
  {
   "cell_type": "code",
   "execution_count": 16,
   "metadata": {},
   "outputs": [],
   "source": [
    "# for feat, targ in ds.take(1):\n",
    "#   print ('Features: {}, Target: {}'.format(feat, targ))"
   ]
  },
  {
   "cell_type": "markdown",
   "metadata": {},
   "source": [
    "## Instanciando Modelo BERT"
   ]
  },
  {
   "cell_type": "code",
   "execution_count": 17,
   "metadata": {},
   "outputs": [],
   "source": [
    "bert_model = BertModel()\n",
    "model = bert_model.build_model()"
   ]
  },
  {
   "cell_type": "code",
   "execution_count": 18,
   "metadata": {},
   "outputs": [
    {
     "name": "stdout",
     "output_type": "stream",
     "text": [
      "Model: \"model\"\n",
      "__________________________________________________________________________________________________\n",
      " Layer (type)                   Output Shape         Param #     Connected to                     \n",
      "==================================================================================================\n",
      " text (InputLayer)              [(None,)]            0           []                               \n",
      "                                                                                                  \n",
      " preprocessing (KerasLayer)     {'input_word_ids':   0           ['text[0][0]']                   \n",
      "                                (None, 128),                                                      \n",
      "                                 'input_mask': (Non                                               \n",
      "                                e, 128),                                                          \n",
      "                                 'input_type_ids':                                                \n",
      "                                (None, 128)}                                                      \n",
      "                                                                                                  \n",
      " BERT_encoder (KerasLayer)      {'sequence_output':  28763649    ['preprocessing[0][0]',          \n",
      "                                 (None, 128, 512),                'preprocessing[0][1]',          \n",
      "                                 'encoder_outputs':               'preprocessing[0][2]']          \n",
      "                                 [(None, 128, 512),                                               \n",
      "                                 (None, 128, 512),                                                \n",
      "                                 (None, 128, 512),                                                \n",
      "                                 (None, 128, 512)],                                               \n",
      "                                 'default': (None,                                                \n",
      "                                512),                                                             \n",
      "                                 'pooled_output': (                                               \n",
      "                                None, 512)}                                                       \n",
      "                                                                                                  \n",
      "==================================================================================================\n",
      "Total params: 28,763,649\n",
      "Trainable params: 28,763,648\n",
      "Non-trainable params: 1\n",
      "__________________________________________________________________________________________________\n"
     ]
    }
   ],
   "source": [
    "model.summary()"
   ]
  },
  {
   "cell_type": "markdown",
   "metadata": {},
   "source": [
    "## Treino Modelo Siames com Triplet Semi Hard"
   ]
  },
  {
   "cell_type": "code",
   "execution_count": 19,
   "metadata": {},
   "outputs": [],
   "source": [
    "# Compile the model\n",
    "model.compile(\n",
    "    optimizer=tf.keras.optimizers.Adam(0.001),\n",
    "    loss=tfa.losses.TripletSemiHardLoss()\n",
    ")"
   ]
  },
  {
   "cell_type": "code",
   "execution_count": 20,
   "metadata": {},
   "outputs": [
    {
     "name": "stdout",
     "output_type": "stream",
     "text": [
      "Epoch 1/100\n",
      "227/227 [==============================] - 923s 4s/step - loss: 0.8648\n",
      "Epoch 2/100\n",
      "227/227 [==============================] - 957s 4s/step - loss: 0.7020\n",
      "Epoch 3/100\n",
      "227/227 [==============================] - 906s 4s/step - loss: 0.6825\n",
      "Epoch 4/100\n",
      "227/227 [==============================] - 914s 4s/step - loss: 0.6265\n",
      "Epoch 5/100\n",
      "227/227 [==============================] - 896s 4s/step - loss: 0.6730\n",
      "Epoch 6/100\n",
      "227/227 [==============================] - 717s 3s/step - loss: 0.6007\n",
      "Epoch 7/100\n",
      "227/227 [==============================] - 714s 3s/step - loss: 0.5771\n",
      "Epoch 8/100\n",
      "227/227 [==============================] - 706s 3s/step - loss: 0.4941\n",
      "Epoch 9/100\n",
      "227/227 [==============================] - 725s 3s/step - loss: 0.4818\n",
      "Epoch 10/100\n",
      "227/227 [==============================] - 676s 3s/step - loss: 0.4071\n",
      "Epoch 11/100\n",
      "227/227 [==============================] - 666s 3s/step - loss: 0.4966\n",
      "Epoch 12/100\n",
      "227/227 [==============================] - 678s 3s/step - loss: 0.5086\n",
      "Epoch 13/100\n",
      "227/227 [==============================] - 664s 3s/step - loss: 0.4588\n",
      "Epoch 14/100\n",
      "227/227 [==============================] - 668s 3s/step - loss: 0.4881\n",
      "Epoch 15/100\n",
      "227/227 [==============================] - 693s 3s/step - loss: 0.4776\n",
      "Epoch 16/100\n",
      "227/227 [==============================] - 608s 3s/step - loss: 0.4463\n",
      "Epoch 17/100\n",
      "227/227 [==============================] - 619s 3s/step - loss: 0.4444\n",
      "Epoch 18/100\n",
      "227/227 [==============================] - 592s 3s/step - loss: 0.5415\n",
      "Epoch 19/100\n",
      "227/227 [==============================] - 595s 3s/step - loss: 0.4832\n",
      "Epoch 20/100\n",
      "227/227 [==============================] - 610s 3s/step - loss: 0.4421\n",
      "Epoch 21/100\n",
      "227/227 [==============================] - 649s 3s/step - loss: 0.4279\n",
      "Epoch 22/100\n",
      "227/227 [==============================] - 639s 3s/step - loss: 0.4851\n",
      "Epoch 23/100\n",
      "227/227 [==============================] - 648s 3s/step - loss: 0.4775\n",
      "Epoch 24/100\n",
      "227/227 [==============================] - 616s 3s/step - loss: 0.4176\n",
      "Epoch 25/100\n",
      "227/227 [==============================] - 567s 2s/step - loss: 0.5221\n",
      "Epoch 26/100\n",
      "227/227 [==============================] - 565s 2s/step - loss: 0.4986\n",
      "Epoch 27/100\n",
      "227/227 [==============================] - 592s 3s/step - loss: 0.4809\n",
      "Epoch 28/100\n",
      "227/227 [==============================] - 643s 3s/step - loss: 0.4393\n",
      "Epoch 29/100\n",
      "227/227 [==============================] - 643s 3s/step - loss: 0.4015\n",
      "Epoch 30/100\n",
      "227/227 [==============================] - 627s 3s/step - loss: 0.4061\n",
      "Epoch 31/100\n",
      "227/227 [==============================] - 644s 3s/step - loss: 0.4493\n",
      "Epoch 32/100\n",
      "227/227 [==============================] - 640s 3s/step - loss: 0.3873\n",
      "Epoch 33/100\n",
      "227/227 [==============================] - 639s 3s/step - loss: 0.4337\n",
      "Epoch 34/100\n",
      "227/227 [==============================] - 669s 3s/step - loss: 0.4558\n",
      "Epoch 35/100\n",
      "227/227 [==============================] - 636s 3s/step - loss: 0.4095\n",
      "Epoch 36/100\n",
      "227/227 [==============================] - 634s 3s/step - loss: 0.5238\n",
      "Epoch 37/100\n",
      "227/227 [==============================] - 634s 3s/step - loss: 0.3951\n",
      "Epoch 38/100\n",
      "227/227 [==============================] - 633s 3s/step - loss: 0.4050\n",
      "Epoch 39/100\n",
      "227/227 [==============================] - 571s 3s/step - loss: 0.4204\n",
      "Epoch 40/100\n",
      "227/227 [==============================] - 560s 2s/step - loss: 0.3822\n",
      "Epoch 41/100\n",
      "227/227 [==============================] - 560s 2s/step - loss: 0.6071\n",
      "Epoch 42/100\n",
      "227/227 [==============================] - 565s 2s/step - loss: 0.5239\n",
      "Epoch 43/100\n",
      "227/227 [==============================] - 584s 3s/step - loss: 0.4989\n",
      "Epoch 44/100\n",
      "227/227 [==============================] - 561s 2s/step - loss: 0.4917\n",
      "Epoch 45/100\n",
      "227/227 [==============================] - 560s 2s/step - loss: 0.5145\n",
      "Epoch 46/100\n",
      "227/227 [==============================] - 558s 2s/step - loss: 0.5075\n",
      "Epoch 47/100\n",
      "227/227 [==============================] - 558s 2s/step - loss: 0.4505\n",
      "Epoch 48/100\n",
      "227/227 [==============================] - 555s 2s/step - loss: 0.4465\n",
      "Epoch 49/100\n",
      "227/227 [==============================] - 557s 2s/step - loss: 0.4593\n",
      "Epoch 50/100\n",
      "227/227 [==============================] - 555s 2s/step - loss: 0.4692\n",
      "Epoch 51/100\n",
      "227/227 [==============================] - 556s 2s/step - loss: 0.4553\n",
      "Epoch 52/100\n",
      "227/227 [==============================] - 553s 2s/step - loss: 0.4735\n",
      "Epoch 53/100\n",
      "227/227 [==============================] - 579s 3s/step - loss: 0.4881\n",
      "Epoch 54/100\n",
      "227/227 [==============================] - 555s 2s/step - loss: 0.4740\n",
      "Epoch 55/100\n",
      "227/227 [==============================] - 553s 2s/step - loss: 0.4650\n",
      "Epoch 56/100\n",
      "227/227 [==============================] - 553s 2s/step - loss: 0.4389\n",
      "Epoch 57/100\n",
      "227/227 [==============================] - 553s 2s/step - loss: 0.4833\n",
      "Epoch 58/100\n",
      "227/227 [==============================] - 554s 2s/step - loss: 0.4553\n",
      "Epoch 59/100\n",
      "227/227 [==============================] - 553s 2s/step - loss: 0.4478\n",
      "Epoch 60/100\n",
      "227/227 [==============================] - 551s 2s/step - loss: 0.4446\n",
      "Epoch 61/100\n",
      "227/227 [==============================] - 552s 2s/step - loss: 0.4217\n",
      "Epoch 62/100\n",
      "227/227 [==============================] - 565s 2s/step - loss: 0.4191\n",
      "Epoch 63/100\n",
      "227/227 [==============================] - 563s 2s/step - loss: 0.4425\n",
      "Epoch 64/100\n",
      "227/227 [==============================] - 552s 2s/step - loss: 0.4513\n",
      "Epoch 65/100\n",
      "227/227 [==============================] - 549s 2s/step - loss: 0.4177\n",
      "Epoch 66/100\n",
      "227/227 [==============================] - 550s 2s/step - loss: 0.4315\n",
      "Epoch 67/100\n",
      "227/227 [==============================] - 553s 2s/step - loss: 0.4471\n",
      "Epoch 68/100\n",
      "227/227 [==============================] - 567s 2s/step - loss: 0.4274\n",
      "Epoch 69/100\n",
      "227/227 [==============================] - 568s 3s/step - loss: 0.4584\n",
      "Epoch 70/100\n",
      "227/227 [==============================] - 568s 3s/step - loss: 0.4423\n",
      "Epoch 71/100\n",
      "227/227 [==============================] - 569s 3s/step - loss: 0.4363\n",
      "Epoch 72/100\n",
      "227/227 [==============================] - 620s 3s/step - loss: 0.4397\n",
      "Epoch 73/100\n",
      "227/227 [==============================] - 568s 3s/step - loss: 0.4182\n",
      "Epoch 74/100\n",
      "227/227 [==============================] - 567s 2s/step - loss: 0.4267\n",
      "Epoch 75/100\n",
      "227/227 [==============================] - 600s 3s/step - loss: 0.4280\n",
      "Epoch 76/100\n",
      "227/227 [==============================] - 617s 3s/step - loss: 0.4058\n",
      "Epoch 77/100\n",
      "227/227 [==============================] - 620s 3s/step - loss: 0.4027\n",
      "Epoch 78/100\n",
      "227/227 [==============================] - 617s 3s/step - loss: 0.3966\n",
      "Epoch 79/100\n",
      "227/227 [==============================] - 621s 3s/step - loss: 0.4447\n",
      "Epoch 80/100\n",
      "227/227 [==============================] - 625s 3s/step - loss: 0.4175\n",
      "Epoch 81/100\n",
      "227/227 [==============================] - 655s 3s/step - loss: 0.4045\n",
      "Epoch 82/100\n",
      "227/227 [==============================] - 628s 3s/step - loss: 0.4211\n",
      "Epoch 83/100\n",
      "227/227 [==============================] - 630s 3s/step - loss: 0.4116\n",
      "Epoch 84/100\n",
      "227/227 [==============================] - 629s 3s/step - loss: 0.4036\n",
      "Epoch 85/100\n",
      "227/227 [==============================] - 632s 3s/step - loss: 0.4333\n",
      "Epoch 86/100\n",
      "227/227 [==============================] - 633s 3s/step - loss: 0.4033\n",
      "Epoch 87/100\n",
      "227/227 [==============================] - 628s 3s/step - loss: 0.3868\n",
      "Epoch 88/100\n",
      "227/227 [==============================] - 636s 3s/step - loss: 0.4333\n",
      "Epoch 89/100\n",
      "227/227 [==============================] - 644s 3s/step - loss: 0.4218\n",
      "Epoch 90/100\n",
      "227/227 [==============================] - 699s 3s/step - loss: 0.3846\n",
      "Epoch 91/100\n",
      "227/227 [==============================] - 698s 3s/step - loss: 0.4111\n",
      "Epoch 92/100\n",
      "227/227 [==============================] - 703s 3s/step - loss: 0.4172\n",
      "Epoch 93/100\n",
      "227/227 [==============================] - 636s 3s/step - loss: 0.3877\n",
      "Epoch 94/100\n",
      "227/227 [==============================] - 644s 3s/step - loss: 0.4286\n",
      "Epoch 95/100\n",
      "227/227 [==============================] - 651s 3s/step - loss: 0.4086\n",
      "Epoch 96/100\n",
      "227/227 [==============================] - 641s 3s/step - loss: 0.4094\n",
      "Epoch 97/100\n",
      "227/227 [==============================] - 666s 3s/step - loss: 0.3756\n",
      "Epoch 98/100\n",
      "227/227 [==============================] - 672s 3s/step - loss: 0.3731\n",
      "Epoch 99/100\n",
      "227/227 [==============================] - 667s 3s/step - loss: 0.3990\n",
      "Epoch 100/100\n",
      "227/227 [==============================] - 655s 3s/step - loss: 0.3968\n"
     ]
    }
   ],
   "source": [
    "# Train the network\n",
    "history = model.fit(\n",
    "    x=ds_train,\n",
    "    epochs=100\n",
    ")"
   ]
  },
  {
   "cell_type": "code",
   "execution_count": null,
   "metadata": {},
   "outputs": [],
   "source": []
  },
  {
   "cell_type": "markdown",
   "metadata": {},
   "source": [
    "## Resultados"
   ]
  },
  {
   "cell_type": "code",
   "execution_count": 21,
   "metadata": {},
   "outputs": [
    {
     "name": "stdout",
     "output_type": "stream",
     "text": [
      "57/57 [==============================] - 47s 827ms/step\n"
     ]
    }
   ],
   "source": [
    "results = model.predict(ds_test)"
   ]
  },
  {
   "cell_type": "code",
   "execution_count": 22,
   "metadata": {},
   "outputs": [],
   "source": [
    "# save test embeddings for visualization in projector\n",
    "\n",
    "np.savetxt(\"vecs_exp1.tsv\", results, delimiter='\\t')\n",
    "\n",
    "out_m = io.open(\"meta_exp1.tsv\", \"w\", encoding=\"utf-8\")\n",
    "\n",
    "for text, labels in tfds.as_numpy(ds_test):\n",
    "    [out_m.write(str(x) + \"\\n\") for x in labels]\n",
    "\n",
    "out_m.close()"
   ]
  },
  {
   "cell_type": "code",
   "execution_count": 29,
   "metadata": {},
   "outputs": [
    {
     "name": "stderr",
     "output_type": "stream",
     "text": [
      "WARNING:absl:Found untraced functions such as restored_function_body, restored_function_body, restored_function_body, restored_function_body, restored_function_body while saving (showing 5 of 124). These functions will not be directly callable after loading.\n"
     ]
    },
    {
     "name": "stdout",
     "output_type": "stream",
     "text": [
      "INFO:tensorflow:Assets written to: model_exp1/assets\n"
     ]
    },
    {
     "name": "stderr",
     "output_type": "stream",
     "text": [
      "INFO:tensorflow:Assets written to: model_exp1/assets\n"
     ]
    }
   ],
   "source": [
    "model.save(\"model_exp1\")"
   ]
  },
  {
   "cell_type": "code",
   "execution_count": null,
   "metadata": {},
   "outputs": [],
   "source": []
  }
 ],
 "metadata": {
  "interpreter": {
   "hash": "d9a3a2e5075105f8d390980d442876b1d0cc168b58b0a3cce79c9b270d49932a"
  },
  "kernelspec": {
   "display_name": "Python 3.9.7 ('mestrado')",
   "language": "python",
   "name": "python3"
  },
  "language_info": {
   "codemirror_mode": {
    "name": "ipython",
    "version": 3
   },
   "file_extension": ".py",
   "mimetype": "text/x-python",
   "name": "python",
   "nbconvert_exporter": "python",
   "pygments_lexer": "ipython3",
   "version": "3.9.7"
  },
  "orig_nbformat": 4
 },
 "nbformat": 4,
 "nbformat_minor": 2
}
